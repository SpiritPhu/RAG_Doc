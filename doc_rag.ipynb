{
 "cells": [
  {
   "cell_type": "code",
   "execution_count": 1,
   "metadata": {},
   "outputs": [
    {
     "name": "stdout",
     "output_type": "stream",
     "text": [
      "Collecting fuzzywuzzy\n",
      "  Downloading fuzzywuzzy-0.18.0-py2.py3-none-any.whl.metadata (4.9 kB)\n",
      "Downloading fuzzywuzzy-0.18.0-py2.py3-none-any.whl (18 kB)\n",
      "Installing collected packages: fuzzywuzzy\n",
      "Successfully installed fuzzywuzzy-0.18.0\n"
     ]
    }
   ],
   "source": [
    "!pip install fuzzywuzzy"
   ]
  },
  {
   "cell_type": "code",
   "execution_count": 2,
   "metadata": {},
   "outputs": [],
   "source": [
    "from docx import Document\n",
    "import pandas as pd\n",
    "from difflib import Differ"
   ]
  },
  {
   "cell_type": "code",
   "execution_count": 3,
   "metadata": {},
   "outputs": [
    {
     "name": "stdout",
     "output_type": "stream",
     "text": [
      "Differences result saved to: /Users/hoangminh/Downloads/differences_result.xlsx\n"
     ]
    }
   ],
   "source": [
    "from docx import Document\n",
    "import pandas as pd\n",
    "from difflib import Differ\n",
    "\n",
    "# Function to read text from a Word document\n",
    "def read_docx(file_path):\n",
    "    \"\"\"Reads text from a .docx file and returns a list of paragraphs.\"\"\"\n",
    "    doc = Document(file_path)\n",
    "    return [para.text.strip() for para in doc.paragraphs if para.text.strip()]\n",
    "\n",
    "# Function to compare texts from two documents and filter for differences\n",
    "def compare_texts_for_differences(original, updated):\n",
    "    \"\"\"Compares two lists of strings and returns differences as a DataFrame.\"\"\"\n",
    "    differ = Differ()\n",
    "    diff = list(differ.compare(original, updated))\n",
    "    original_content = []\n",
    "    updated_content = []\n",
    "\n",
    "    for line in diff:\n",
    "        if line.startswith('- '):  # Line in original but not in updated\n",
    "            original_content.append(line[2:])\n",
    "            updated_content.append(\"\")\n",
    "        elif line.startswith('+ '):  # Line in updated but not in original\n",
    "            original_content.append(\"\")\n",
    "            updated_content.append(line[2:])\n",
    "        # Skip identical lines (those starting with '  ')\n",
    "\n",
    "    # Create a DataFrame for only the differences\n",
    "    differences_df = pd.DataFrame({\n",
    "        \"Original Content\": original_content,\n",
    "        \"Updated Content\": updated_content\n",
    "    }).dropna(how='all')  # Drop rows where both columns are empty\n",
    "    \n",
    "    return differences_df\n",
    "\n",
    "# Main execution\n",
    "def generate_differences_result(original_file, updated_file, output_file):\n",
    "    \"\"\"Generates a differences report between two .docx files and saves it to Excel.\"\"\"\n",
    "    # Read the Word documents\n",
    "    original_text = read_docx(original_file)\n",
    "    updated_text = read_docx(updated_file)\n",
    "    \n",
    "    # Compare the documents\n",
    "    differences_result = compare_texts_for_differences(original_text, updated_text)\n",
    "    \n",
    "    # Save the differences result to Excel\n",
    "    differences_result.to_excel(output_file, index=False)\n",
    "    print(f\"Differences result saved to: {output_file}\")\n",
    "\n",
    "# File paths\n",
    "original_file = \"/Users/hoangminh/Downloads/old_doc.docx\"\n",
    "updated_file = \"/Users/hoangminh/Downloads/new_doc.docx\"\n",
    "output_file = \"/Users/hoangminh/Downloads/differences_result.xlsx\"\n",
    "\n",
    "# Generate the differences result\n",
    "generate_differences_result(original_file, updated_file, output_file)\n"
   ]
  },
  {
   "cell_type": "code",
   "execution_count": 5,
   "metadata": {},
   "outputs": [
    {
     "name": "stdout",
     "output_type": "stream",
     "text": [
      "Adjusted differences saved to: /Users/hoangminh/Downloads/differences_result_new_1.xlsx\n"
     ]
    }
   ],
   "source": [
    "import pandas as pd\n",
    "from fuzzywuzzy import fuzz\n",
    "\n",
    "def adjust_fuzzy_matching(input_file, output_file, threshold=80):\n",
    "    \"\"\"Adjust rows based on fuzzy matching and include probabilities.\"\"\"\n",
    "    # Read the input Excel file\n",
    "    df = pd.read_excel(input_file)\n",
    "    \n",
    "    # Add a new column for probability\n",
    "    df[\"Fuzzy Match Probability\"] = None\n",
    "    \n",
    "    # Iterate through the DataFrame to adjust rows\n",
    "    for index, row in df.iterrows():\n",
    "        if pd.notnull(row[\"Original Content\"]) and pd.isnull(row[\"Updated Content\"]):\n",
    "            # Compare with the next row in \"Updated Content\"\n",
    "            next_index = index + 1\n",
    "            if next_index < len(df):\n",
    "                next_row_content = df.at[next_index, \"Updated Content\"]\n",
    "                if pd.notnull(next_row_content):\n",
    "                    # Fuzzy match\n",
    "                    similarity = fuzz.ratio(row[\"Original Content\"], next_row_content)\n",
    "                    if similarity >= threshold:\n",
    "                        # Move the next \"Updated Content\" row up\n",
    "                        df.at[index, \"Updated Content\"] = next_row_content\n",
    "                        df.at[next_index, \"Updated Content\"] = None\n",
    "                        # Add similarity score to the current row\n",
    "                        df.at[index, \"Fuzzy Match Probability\"] = similarity\n",
    "                    else:\n",
    "                        # Add similarity score even if not moved\n",
    "                        df.at[index, \"Fuzzy Match Probability\"] = similarity\n",
    "                else:\n",
    "                    # If there's no content to compare, set similarity as NaN\n",
    "                    df.at[index, \"Fuzzy Match Probability\"] = None\n",
    "            else:\n",
    "                # If no next row exists, set similarity as NaN\n",
    "                df.at[index, \"Fuzzy Match Probability\"] = None\n",
    "    \n",
    "    # Save the adjusted DataFrame to an Excel file\n",
    "    df.to_excel(output_file, index=False)\n",
    "    print(f\"Adjusted differences saved to: {output_file}\")\n",
    "\n",
    "# File paths\n",
    "input_file = \"/Users/hoangminh/Downloads/differences_result.xlsx\"\n",
    "output_file = \"/Users/hoangminh/Downloads/differences_result_new_1.xlsx\"\n",
    "\n",
    "# Adjust rows with fuzzy matching\n",
    "adjust_fuzzy_matching(input_file, output_file)"
   ]
  }
 ],
 "metadata": {
  "kernelspec": {
   "display_name": "base",
   "language": "python",
   "name": "python3"
  },
  "language_info": {
   "codemirror_mode": {
    "name": "ipython",
    "version": 3
   },
   "file_extension": ".py",
   "mimetype": "text/x-python",
   "name": "python",
   "nbconvert_exporter": "python",
   "pygments_lexer": "ipython3",
   "version": "3.12.2"
  }
 },
 "nbformat": 4,
 "nbformat_minor": 2
}
